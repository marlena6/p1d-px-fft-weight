{
 "cells": [
  {
   "cell_type": "code",
   "execution_count": 1,
   "id": "a35ee789-933e-4f8a-a8af-c914994ccd30",
   "metadata": {},
   "outputs": [],
   "source": [
    "import numpy as np\n",
    "import matplotlib.pyplot as plt\n",
    "rng = np.random.default_rng(seed=315)"
   ]
  },
  {
   "cell_type": "code",
   "execution_count": 2,
   "id": "067dd0e9-30a4-4fe2-90db-ccf059dac2a3",
   "metadata": {},
   "outputs": [
    {
     "name": "stdout",
     "output_type": "stream",
     "text": [
      "1350\n",
      "0.05\n"
     ]
    }
   ],
   "source": [
    "nside = 768\n",
    "Np_og = 1350\n",
    "binsize=1\n",
    "Np    = int(Np_og//binsize)\n",
    "print(Np)\n",
    "nskew = nside**2\n",
    "pix_spacing = 67.5/Np\n",
    "print(pix_spacing)"
   ]
  },
  {
   "cell_type": "code",
   "execution_count": 3,
   "id": "f381a056-2d50-49c2-8d04-110e0f30324f",
   "metadata": {},
   "outputs": [
    {
     "name": "stdout",
     "output_type": "stream",
     "text": [
      "Percentage masked: 2.2222222222222223\n"
     ]
    }
   ],
   "source": [
    "# match the total number of pixels masked to what is necessary for the skyline version\n",
    "skyline_width = 30\n",
    "Npmasked_total = skyline_width * nskew\n",
    "Npm_per_skew = skyline_width\n",
    "masked_frac = Npmasked_total/(Np*nskew)\n",
    "print(\"Percentage masked:\", masked_frac*100)"
   ]
  },
  {
   "cell_type": "code",
   "execution_count": 10,
   "id": "7f549416-26df-4965-9e56-0f5ab9835d62",
   "metadata": {},
   "outputs": [
    {
     "name": "stdout",
     "output_type": "stream",
     "text": [
      "Doing random masking\n",
      "Total number of pixels masked in random scheme is 100.06869280779804 percent of the total desired\n",
      "Doing single-skyline masking\n",
      "total number of pixels masked in skyline scheme is 100.0 percent of the total desired\n",
      "Doing DLA masking\n",
      "DLA width in Mpc is 20.0\n",
      "total number of pixels masked in DLA scheme is 99.99819155092592 percent of the total desired\n",
      "Doing double-skyline masking\n",
      "double skyline width 15\n"
     ]
    }
   ],
   "source": [
    "# in the subselected forest, do some masking schemes along the line-of-sight axis\n",
    "# 1: random masking of 1-5 pixels in each skewer for every line of sight\n",
    "print(\"Doing random masking\")\n",
    "\n",
    "random_mask = np.ones((nside, nside, Np)) # store the mask\n",
    "\n",
    "masklocs_per_skewer = []\n",
    "nmasked_rand = 0\n",
    "for i in range(nside):\n",
    "    for j in range(nside):\n",
    "        nmask = rng.integers(Npm_per_skew-int(skyline_width/2.), Npm_per_skew+int(skyline_width/2.)+1) # average # of pixels masked will be Npm_per_skew\n",
    "        if nmask != 0:\n",
    "            masklocs = rng.choice(np.arange(Np), size=nmask, replace=False)\n",
    "            masklocs_per_skewer.append(masklocs)\n",
    "            nmasked_rand += nmask\n",
    "            random_mask[i,j, masklocs] = 0\n",
    "\n",
    "\n",
    "print(\"Total number of pixels masked in random scheme is\", nmasked_rand/Npmasked_total*100, \"percent of the total desired\")\n",
    "\n",
    "# 2: 'skyline-like' masking: mask a range of N pixels 1/x of the way through the box\n",
    "print(\"Doing single-skyline masking\")\n",
    "boxdiv = 4\n",
    "sky_maskrange = np.arange(Np//boxdiv, Np//boxdiv+skyline_width)\n",
    "nmasked_skyline = skyline_width*nskew\n",
    "print(\"total number of pixels masked in skyline scheme is\", nmasked_skyline/Npmasked_total*100, \"percent of the total desired\")\n",
    "skyline_mask = np.ones((nside, nside, Np)) # store the mask\n",
    "skyline_mask[:, :, sky_maskrange] = 0\n",
    "\n",
    "# 3: put a DLA-like mask (400 pixels at once) at random positions\n",
    "print(\"Doing DLA masking\")\n",
    "dla_width = 400\n",
    "print(\"DLA width in Mpc is\", dla_width*pix_spacing)\n",
    "ndla = int(Npmasked_total // dla_width)\n",
    "nmasked_dla = 0\n",
    "dla_mask = np.ones((nside, nside, Np)) # store the mask\n",
    "# get all indices\n",
    "dla_locs_xx, dla_locs_yy = np.indices((nside, nside))\n",
    "if ndla!=nside**2:\n",
    "    dla_locs_xx = rng.choice(dla_locs_xx.ravel(), size=ndla, replace=False)\n",
    "    dla_locs_yy = rng.choice(dla_locs_yy.ravel(), size=ndla, replace=False)\n",
    "else:\n",
    "    dla_locs_xx = dla_locs_xx.ravel()\n",
    "    dla_locs_yy = dla_locs_yy.ravel()\n",
    "dla_locs_zstart = rng.choice(np.arange(Np-dla_width), size=ndla, replace=True)\n",
    "for i in range(ndla):\n",
    "    z_start = dla_locs_zstart[i]\n",
    "    z_end  = z_start + dla_width\n",
    "    nmasked_dla += dla_width\n",
    "    dla_mask[dla_locs_xx[i], dla_locs_yy[i], z_start:z_end] = 0\n",
    "print(\"total number of pixels masked in DLA scheme is\", nmasked_dla/Npmasked_total*100, \"percent of the total desired\")\n",
    "\n",
    "\n",
    "# 4: put another DLA-like mask (40 pixels at once) at random positions\n",
    "print(\"Doing small DLA masking\")\n",
    "dla_width = 40\n",
    "print(\"DLA width in Mpc is\", dla_width*pix_spacing)\n",
    "ndla = int(Npmasked_total // dla_width)\n",
    "nmasked_dla = 0\n",
    "dla_mask_small = np.ones((nside, nside, Np)) # store the mask\n",
    "# get all indices\n",
    "dla_locs_xx, dla_locs_yy = np.indices((nside, nside))\n",
    "if ndla!=nside**2:\n",
    "    dla_locs_xx = rng.choice(dla_locs_xx.ravel(), size=ndla, replace=False)\n",
    "    dla_locs_yy = rng.choice(dla_locs_yy.ravel(), size=ndla, replace=False)\n",
    "else:\n",
    "    dla_locs_xx = dla_locs_xx.ravel()\n",
    "    dla_locs_yy = dla_locs_yy.ravel()\n",
    "dla_locs_zstart = rng.choice(np.arange(Np-dla_width), size=ndla, replace=True)\n",
    "for i in range(ndla):\n",
    "    z_start = dla_locs_zstart[i]\n",
    "    z_end  = z_start + dla_width\n",
    "    nmasked_dla += dla_width\n",
    "    dla_mask_small[dla_locs_xx[i], dla_locs_yy[i], z_start:z_end] = 0\n",
    "print(\"total number of pixels masked in DLA scheme is\", nmasked_dla/Npmasked_total*100, \"percent of the total desired\")\n",
    "\n",
    "\n",
    "#4: double skyline-like masking: mask 1 pixel 1/x of the way through the box and another pixel 1/x+2 of the way through the box\n",
    "print(\"Doing double-skyline masking\")\n",
    "double_skyline_width = int(skyline_width//2)\n",
    "print(\"double skyline width\", double_skyline_width)\n",
    "double_skyline_distance = 125\n",
    "double_sky_maskrange = np.arange(int(Np//boxdiv), int(Np//boxdiv)+double_skyline_width)\n",
    "nmasked_2skyline = double_skyline_width*2*nskew\n",
    "print(\"total number of pixels masked in double skyline scheme is\", nmasked_2skyline/Npmasked_total*100, \"percent of the total desired\")\n",
    "\n",
    "skyline_2mask = np.ones((nside, nside, Np)) # store the mask\n",
    "skyline_2mask[:, :, double_sky_maskrange] = 0\n",
    "skyline_2mask[:, :, double_sky_maskrange+double_skyline_distance] = 0"
   ]
  },
  {
   "cell_type": "code",
   "execution_count": 6,
   "id": "72b7d45a-7647-4ac6-a759-8f912a2e05f0",
   "metadata": {},
   "outputs": [],
   "source": [
    "# reshape the masks\n",
    "skyline_mask = skyline_mask.reshape((nskew, Np))\n",
    "skyline_2mask = skyline_2mask.reshape((nskew, Np))\n",
    "random_mask = random_mask.reshape((nskew, Np))\n",
    "dla_mask = dla_mask.reshape((nskew, Np))\n",
    "dla_mask_small = dla_mask_small.reshape((nskew, Np))"
   ]
  },
  {
   "cell_type": "code",
   "execution_count": 5,
   "id": "6c467f2d-56eb-4336-aa98-51665e055cea",
   "metadata": {},
   "outputs": [],
   "source": [
    "maskpath = \"/data/desi/scratch/mlokken/masking/\"\n",
    "# save the masks\n",
    "# np.save(maskpath+'skyline_mask', skyline_mask)\n",
    "# np.save(maskpath+'double_skyline_mask', skyline_2mask)\n",
    "# np.save(maskpath+'random_mask', random_mask)\n",
    "# np.save(maskpath+'dla_mask', dla_mask)\n",
    "# np.save(maskpath+'dla_mask_small', dla_mask)\n",
    "np.save(maskpath+'nonmask', nonmask)"
   ]
  },
  {
   "cell_type": "code",
   "execution_count": null,
   "id": "e187a893-766b-4c13-9c7f-5b95c875f6e2",
   "metadata": {},
   "outputs": [],
   "source": []
  }
 ],
 "metadata": {
  "kernelspec": {
   "display_name": "pcross_2025",
   "language": "python",
   "name": "pcross_2025"
  },
  "language_info": {
   "codemirror_mode": {
    "name": "ipython",
    "version": 3
   },
   "file_extension": ".py",
   "mimetype": "text/x-python",
   "name": "python",
   "nbconvert_exporter": "python",
   "pygments_lexer": "ipython3",
   "version": "3.11.11"
  }
 },
 "nbformat": 4,
 "nbformat_minor": 5
}
